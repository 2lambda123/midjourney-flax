{
  "cells": [
    {
      "cell_type": "markdown",
      "metadata": {
        "id": "8Z1q_WRdTpgv"
      },
      "source": [
        "# Managing Parameters and State\n"
      ]
    },
    {
      "cell_type": "markdown",
      "metadata": {
        "id": "Z7Qjr14xTsp7"
      },
      "source": [
        "We will show you how to…\n",
        "\n",
        "- manage the variables from initialization to updates.\n",
        "- split and re-assemble parameters and state.\n",
        "- use vmap with batch-dependant state."
      ]
    },
    {
      "cell_type": "code",
      "execution_count": 3,
      "metadata": {
        "id": "KL1SWMpnUTAA"
      },
      "outputs": [
        {
          "name": "stdout",
          "output_type": "stream",
          "text": [
            "^C\n",
            "Collecting optax\n",
            "  Using cached optax-0.1.1-py3-none-any.whl (136 kB)\n",
            "Collecting chex>=0.0.4\n",
            "  Using cached chex-0.1.0-py3-none-any.whl (65 kB)\n",
            "Requirement already satisfied: typing-extensions>=3.10.0 in d:\\anaconda\\envs\\jaxenv\\lib\\site-packages (from optax) (4.1.1)\n",
            "Requirement already satisfied: absl-py>=0.7.1 in d:\\anaconda\\envs\\jaxenv\\lib\\site-packages (from optax) (1.0.0)\n",
            "Collecting optax\n",
            "  Using cached optax-0.1.0-py3-none-any.whl (126 kB)\n",
            "  Using cached optax-0.0.91-py3-none-any.whl (126 kB)\n",
            "  Using cached optax-0.0.9-py3-none-any.whl (118 kB)\n",
            "  Using cached optax-0.0.8-py3-none-any.whl (113 kB)\n",
            "  Using cached optax-0.0.6-py3-none-any.whl (96 kB)\n",
            "  Using cached optax-0.0.5-py3-none-any.whl (89 kB)\n",
            "  Using cached optax-0.0.3-py3-none-any.whl (73 kB)\n",
            "  Using cached optax-0.0.2-py3-none-any.whl (54 kB)\n",
            "  Using cached optax-0.0.1-py3-none-any.whl (49 kB)\n",
            "\n",
            "The conflict is caused by:\n",
            "    optax 0.1.1 depends on jaxlib>=0.1.37\n",
            "    optax 0.1.0 depends on jaxlib>=0.1.37\n",
            "    optax 0.0.91 depends on jaxlib>=0.1.37\n",
            "    optax 0.0.9 depends on jaxlib>=0.1.37\n",
            "    optax 0.0.8 depends on jaxlib>=0.1.37\n",
            "    optax 0.0.6 depends on jaxlib>=0.1.37\n",
            "    optax 0.0.5 depends on jaxlib>=0.1.37\n",
            "    optax 0.0.3 depends on jaxlib>=0.1.37\n",
            "    optax 0.0.2 depends on jaxlib>=0.1.37\n",
            "    optax 0.0.1 depends on jaxlib>=0.1.37\n",
            "\n",
            "To fix this you could try to:\n",
            "1. loosen the range of package versions you've specified\n",
            "2. remove package versions to allow pip attempt to solve the dependency conflict\n",
            "\n"
          ]
        },
        {
          "name": "stderr",
          "output_type": "stream",
          "text": [
            "ERROR: Cannot install optax==0.0.1, optax==0.0.2, optax==0.0.3, optax==0.0.5, optax==0.0.6, optax==0.0.8, optax==0.0.9, optax==0.0.91, optax==0.1.0 and optax==0.1.1 because these package versions have conflicting dependencies.\n",
            "ERROR: ResolutionImpossible: for help visit https://pip.pypa.io/en/latest/user_guide/#fixing-conflicting-dependencies\n"
          ]
        },
        {
          "ename": "ModuleNotFoundError",
          "evalue": "No module named 'flax'",
          "output_type": "error",
          "traceback": [
            "\u001b[1;31m---------------------------------------------------------------------------\u001b[0m",
            "\u001b[1;31mModuleNotFoundError\u001b[0m                       Traceback (most recent call last)",
            "\u001b[1;32me:\\GH\\flax\\docs\\howtos\\state_params_howto.ipynb Cell 3'\u001b[0m in \u001b[0;36m<module>\u001b[1;34m\u001b[0m\n\u001b[0;32m      <a href='vscode-notebook-cell:/e%3A/GH/flax/docs/howtos/state_params_howto.ipynb#ch0000002?line=2'>3</a>\u001b[0m get_ipython()\u001b[39m.\u001b[39msystem(\u001b[39m'\u001b[39m\u001b[39m pip install flax\u001b[39m\u001b[39m'\u001b[39m)\n\u001b[0;32m      <a href='vscode-notebook-cell:/e%3A/GH/flax/docs/howtos/state_params_howto.ipynb#ch0000002?line=3'>4</a>\u001b[0m get_ipython()\u001b[39m.\u001b[39msystem(\u001b[39m'\u001b[39m\u001b[39m pip install optax\u001b[39m\u001b[39m'\u001b[39m)\n\u001b[1;32m----> <a href='vscode-notebook-cell:/e%3A/GH/flax/docs/howtos/state_params_howto.ipynb#ch0000002?line=5'>6</a>\u001b[0m \u001b[39mimport\u001b[39;00m \u001b[39mflax\u001b[39;00m\n\u001b[0;32m      <a href='vscode-notebook-cell:/e%3A/GH/flax/docs/howtos/state_params_howto.ipynb#ch0000002?line=6'>7</a>\u001b[0m \u001b[39mfrom\u001b[39;00m \u001b[39mflax\u001b[39;00m \u001b[39mimport\u001b[39;00m linen \u001b[39mas\u001b[39;00m nn\n\u001b[0;32m      <a href='vscode-notebook-cell:/e%3A/GH/flax/docs/howtos/state_params_howto.ipynb#ch0000002?line=8'>9</a>\u001b[0m \u001b[39mimport\u001b[39;00m \u001b[39mjax\u001b[39;00m\n",
            "\u001b[1;31mModuleNotFoundError\u001b[0m: No module named 'flax'"
          ]
        }
      ],
      "source": [
        "#@title\n",
        "! pip install --upgrade pip jax jaxlib\n",
        "! pip install --upgrade git+https://github.com/google/flax.git\n",
        "! pip install optax\n",
        "\n",
        "import flax\n",
        "from flax import linen as nn\n",
        "\n",
        "import jax\n",
        "from jax import numpy as jnp\n",
        "from jax import random\n",
        "\n",
        "import optax\n",
        "\n",
        "from functools import partial\n",
        "\n",
        "#@title\n",
        "# Initialize random variables\n",
        "dummy_input = jnp.ones((32, 5))\n",
        "\n",
        "X = random.uniform(random.PRNGKey(0), (128, 5),  minval=0.0, maxval=1.0)\n",
        "noise = random.uniform(random.PRNGKey(0), (),  minval=0.0, maxval=0.1)\n",
        "X += noise\n",
        "\n",
        "W = random.uniform(random.PRNGKey(0), (5, 1),  minval=0.0, maxval=1.0)\n",
        "b = random.uniform(random.PRNGKey(0), (),  minval=0.0, maxval=1.0)\n",
        "\n",
        "Y = jnp.matmul(X, W) + b\n",
        "\n",
        "num_epochs = 5"
      ]
    },
    {
      "cell_type": "code",
      "execution_count": null,
      "metadata": {
        "id": "eO6VTPVVT702"
      },
      "outputs": [],
      "source": [
        "class BiasAdderWithRunningMean(nn.Module):\n",
        "  momentum: float = 0.9\n",
        "\n",
        "  @nn.compact\n",
        "  def __call__(self, x):\n",
        "    is_initialized = self.has_variable('batch_stats', 'mean')\n",
        "    mean = self.variable('batch_stats', 'mean', jnp.zeros, x.shape[1:])\n",
        "    bias = self.param('bias', lambda rng, shape: jnp.zeros(shape), x.shape[1:])\n",
        "    if is_initialized:\n",
        "      mean.value = (self.momentum * mean.value +\n",
        "                    (1.0 - self.momentum) * jnp.mean(x, axis=0, keepdims=True))\n",
        "    return mean.value + bias"
      ]
    },
    {
      "cell_type": "markdown",
      "metadata": {
        "id": "bJ3TYyIaTy8f"
      },
      "source": [
        "This example model is a minimal example that contains both parameters (declared with `self.param`) and state variables (declared with `self.variable`).\n",
        "\n",
        "The tricky part with initialization here is that we need to split the state variables and the parameters we’re going to optimize for.\n",
        "\n",
        "First we define `update_step` as follow (with dummy loss that should be replaced for yours):"
      ]
    },
    {
      "cell_type": "code",
      "execution_count": null,
      "metadata": {
        "id": "B7xxRU02VeJb"
      },
      "outputs": [],
      "source": [
        "def update_step(apply_fn, x, opt_state, params, state):\n",
        "  def loss(params):\n",
        "    y, updated_state = apply_fn({'params': params, **state},\n",
        "                                x, mutable=list(state.keys()))\n",
        "    l = ((x - y) ** 2).sum() # Replace with your loss here.\n",
        "    return l, updated_state\n",
        "\n",
        "  (l, updated_state), grads = jax.value_and_grad(\n",
        "      loss, has_aux=True)(params)\n",
        "  updates, opt_state = tx.update(grads, opt_state)  # Defined below.\n",
        "  params = optax.apply_updates(params, updates)\n",
        "  return opt_state, params, state"
      ]
    },
    {
      "cell_type": "markdown",
      "metadata": {
        "id": "zM_EyHqwVlEw"
      },
      "source": [
        "Then we can write the actual training code.\n",
        "\n"
      ]
    },
    {
      "cell_type": "code",
      "execution_count": null,
      "metadata": {
        "id": "8RUFi57GVktj"
      },
      "outputs": [],
      "source": [
        "model = BiasAdderWithRunningMean()\n",
        "variables = model.init(random.PRNGKey(0), dummy_input)\n",
        "# Split state and params (which are updated by optimizer).\n",
        "state, params = variables.pop('params')\n",
        "del variables  # Delete variables to avoid wasting resources\n",
        "tx = optax.sgd(learning_rate=0.02)\n",
        "opt_state = tx.init(params)\n",
        "\n",
        "for epoch_num in range(num_epochs):\n",
        "  opt_state, params, state = update_step(\n",
        "      model.apply, dummy_input, opt_state, params, state)"
      ]
    },
    {
      "cell_type": "markdown",
      "metadata": {
        "id": "-mKoPjtQVqD3"
      },
      "source": [
        "## vmap accross the batch dimension\n",
        "\n",
        "When using `vmap` and managing state that depends on the batch dimension, for example when using `BatchNorm`, the setup above must be modified slightly. This is because any layer whose state depends on the batch dimension is not strictly vectorizable. In the case of `BatchNorm`, `lax.pmean()` must be used to average the statistics over the batch dimension so that the state is in sync for each item in the batch.\n",
        "\n",
        "This requires two small changes. Firstly, we need to name the batch axis in our model definition. Here, this is done by specifying the `axis_name` argument of `BatchNorm`. In your own code this might require specifying the `axis_name` argument of `lax.pmean()` directly."
      ]
    },
    {
      "cell_type": "code",
      "execution_count": null,
      "metadata": {
        "id": "r18oI6NOVp7Y"
      },
      "outputs": [],
      "source": [
        "class MLP(nn.Module):\n",
        "  hidden_size: int\n",
        "  out_size: int\n",
        "\n",
        "  @nn.compact\n",
        "  def __call__(self, x, train=False):\n",
        "    norm = partial(\n",
        "        nn.BatchNorm,\n",
        "        use_running_average=not train,\n",
        "        momentum=0.9,\n",
        "        epsilon=1e-5,\n",
        "        axis_name=\"batch\", # Name batch dim\n",
        "    )\n",
        "\n",
        "    x = nn.Dense(self.hidden_size)(x)\n",
        "    x = norm()(x)\n",
        "    x = nn.relu(x)\n",
        "    x = nn.Dense(self.hidden_size)(x)\n",
        "    x = norm()(x)\n",
        "    x = nn.relu(x)\n",
        "    y = nn.Dense(self.out_size)(x)\n",
        "\n",
        "    return y"
      ]
    },
    {
      "cell_type": "markdown",
      "metadata": {
        "id": "H_3cI-2DWL3g"
      },
      "source": [
        "Secondly, we need to specify the same name when calling `vmap` in our training code:"
      ]
    },
    {
      "cell_type": "code",
      "execution_count": null,
      "metadata": {
        "id": "0jurc8PdWLVP"
      },
      "outputs": [],
      "source": [
        "def update_step(apply_fn, x_batch, y_batch, opt_state, params, state):\n",
        "\n",
        "  def batch_loss(params):\n",
        "    def loss_fn(x, y):\n",
        "      pred, updated_state = apply_fn(\n",
        "        {'params': params, **state},\n",
        "        x, mutable=list(state.keys())\n",
        "      )\n",
        "      return (pred - y) ** 2, updated_state\n",
        "\n",
        "    loss, updated_state = jax.vmap(\n",
        "      loss_fn, out_axes=(0, None),  # Do not vmap `updated_state`.\n",
        "      axis_name='batch'  # Name batch dim\n",
        "    )(x_batch, y_batch)  # vmap only `x`, `y`, but not `state`.\n",
        "    return jnp.mean(loss), updated_state\n",
        "\n",
        "  (loss, updated_state), grads = jax.value_and_grad(\n",
        "    batch_loss, has_aux=True\n",
        "  )(params)\n",
        "\n",
        "  updates, opt_state = tx.update(grads, opt_state)  # Defined below.\n",
        "  params = optax.apply_updates(params, updates)\n",
        "  return opt_state, params, updated_state, loss"
      ]
    },
    {
      "cell_type": "markdown",
      "metadata": {
        "id": "4CI-cToTYURG"
      },
      "source": [
        "Note that we also need to specify that the model state does not have a batch dimension. Now we are able to train the model:\n",
        "\n"
      ]
    },
    {
      "cell_type": "code",
      "execution_count": null,
      "metadata": {
        "id": "OdMTQcMoYUtk"
      },
      "outputs": [],
      "source": [
        "model = MLP(hidden_size=10, out_size=1)\n",
        "variables = model.init(random.PRNGKey(0), dummy_input)\n",
        "# Split state and params (which are updated by optimizer).\n",
        "state, params = variables.pop('params')\n",
        "del variables  # Delete variables to avoid wasting resources\n",
        "tx = optax.sgd(learning_rate=0.02)\n",
        "opt_state = tx.init(params)\n",
        "\n",
        "for epoch_num in range(num_epochs):\n",
        "  opt_state, params, state, loss = update_step(\n",
        "      model.apply, X, Y, opt_state, params, state)\n",
        "  print(f\"Loss for epoch {epoch_num}:\", loss)\n"
      ]
    }
  ],
  "metadata": {
    "colab": {
      "name": "state_params_howto.ipynb",
      "provenance": []
    },
    "kernelspec": {
      "display_name": "Python 3",
      "name": "python3"
    },
    "language_info": {
      "codemirror_mode": {
        "name": "ipython",
        "version": 3
      },
      "file_extension": ".py",
      "mimetype": "text/x-python",
      "name": "python",
      "nbconvert_exporter": "python",
      "pygments_lexer": "ipython3",
      "version": "3.9.7"
    }
  },
  "nbformat": 4,
  "nbformat_minor": 0
}
